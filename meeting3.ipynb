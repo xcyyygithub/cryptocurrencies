{
 "cells": [
  {
   "cell_type": "code",
   "execution_count": null,
   "id": "c67e7203",
   "metadata": {},
   "outputs": [],
   "source": [
    "import yfinance as yf\n",
    "import numpy as np\n",
    "import pandas as pd\n",
    "import matplotlib.pyplot as plt\n",
    "import seaborn as sns\n",
    "from datetime import datetime\n",
    "import datetime"
   ]
  },
  {
   "cell_type": "code",
   "execution_count": null,
   "id": "0a116bf9",
   "metadata": {},
   "outputs": [],
   "source": [
    "plt.style.use('seaborn')\n",
    "plt.rcParams['figure.figsize']=[8,4]\n",
    "plt.rcParams['figure.dpi']=150"
   ]
  },
  {
   "cell_type": "code",
   "execution_count": null,
   "id": "b8cbb64c",
   "metadata": {},
   "outputs": [],
   "source": [
    "endtime = datetime.datetime.today()\n",
    "if endtime.month < 6:\n",
    "    year = endtime.year - 1\n",
    "    month = endtime.month + 6\n",
    "else:\n",
    "    year = endtime.year\n",
    "    month = endtime.month - 6\n",
    "starttime = datetime.datetime(year, month, endtime.day)\n",
    "symbol = 'btc-gbp'"
   ]
  },
  {
   "cell_type": "code",
   "execution_count": null,
   "id": "3755f691",
   "metadata": {},
   "outputs": [],
   "source": [
    "b_gbp = yf.Ticker(symbol)\n",
    "data = b_gbp.history(start=starttime, end=endtime, interval='1h')\n",
    "data = data.drop(['Dividends', 'Stock Splits'], axis=1)\n",
    "print(data.tail(10))"
   ]
  },
  {
   "cell_type": "code",
   "execution_count": null,
   "id": "e9ee9a84",
   "metadata": {},
   "outputs": [],
   "source": [
    "data['log_return'] = np.log(data['Close'] / data['Close'].shift(1))\n",
    "print(data.tail(6))"
   ]
  },
  {
   "cell_type": "code",
   "execution_count": null,
   "id": "67d899b7",
   "metadata": {},
   "outputs": [],
   "source": [
    "data['std_7d'] = data[['log_return']].rolling(window = 7*24).std()\n",
    "data['std_1d'] = data[['log_return']].rolling(window = 24).std()\n",
    "print(data.tail(6))"
   ]
  },
  {
   "cell_type": "code",
   "execution_count": null,
   "id": "c7197d78",
   "metadata": {},
   "outputs": [],
   "source": [
    "# Shared x coordinate axis\n",
    "fig, ax = plt.subplots(3, 1, figsize=(9, 6), sharex=True)\n",
    "data.Close.plot(ax=ax[0], color='orange')\n",
    "ax[0].set(title=\"BTC price time series\", ylabel=\"Price of BGP(£)\")\n",
    "data.log_return.plot(ax=ax[1], color='orange')\n",
    "ax[1].set(ylabel=\"Log return rate of BTC\")\n",
    "data.std_7d.plot(ax=ax[2], color='orange', label=\"BTC volatility in 7 days\")\n",
    "data.std_1d.plot(ax=ax[2], color='darkcyan', label=\"BTC volatility in 24 hours\")\n",
    "ax[2].set(ylabel=\"BTC volatility\", xlabel=\"Time Interval\")\n",
    "ax[2].legend()\n",
    "fig.show()"
   ]
  },
  {
   "cell_type": "code",
   "execution_count": null,
   "id": "0bc90f6c",
   "metadata": {},
   "outputs": [],
   "source": []
  },
  {
   "cell_type": "code",
   "execution_count": null,
   "id": "12922cff",
   "metadata": {},
   "outputs": [],
   "source": []
  }
 ],
 "metadata": {
  "kernelspec": {
   "display_name": "Python 3 (ipykernel)",
   "language": "python",
   "name": "python3"
  },
  "language_info": {
   "codemirror_mode": {
    "name": "ipython",
    "version": 3
   },
   "file_extension": ".py",
   "mimetype": "text/x-python",
   "name": "python",
   "nbconvert_exporter": "python",
   "pygments_lexer": "ipython3",
   "version": "3.9.12"
  }
 },
 "nbformat": 4,
 "nbformat_minor": 5
}
